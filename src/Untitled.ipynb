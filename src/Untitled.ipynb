{
 "cells": [
  {
   "cell_type": "code",
   "execution_count": 1,
   "metadata": {},
   "outputs": [],
   "source": [
    "import sys\n",
    "from PyQt5 import QtCore, QtWidgets, uic\n",
    "from PyQt5.QtWidgets import QMainWindow\n",
    "\n",
    "ui = uic.loadUiType('untitled.ui')[0]\n",
    "\n",
    "class ExampleWindow(QMainWindow, ui):\n",
    "    def __init__(self):\n",
    "        super().__init__()\n",
    "        self.setupUi(self)\n",
    "        self.name.setText(\"junseuk\")\n",
    "        \n",
    "\n",
    "if __name__ == \"__main__\":\n",
    "    app = QtWidgets.QApplication(sys.argv)\n",
    "    mainWin = ExampleWindow()\n",
    "    mainWin.show()\n",
    "    app.exec_()"
   ]
  },
  {
   "cell_type": "code",
   "execution_count": 2,
   "metadata": {},
   "outputs": [
    {
     "ename": "ModuleNotFoundError",
     "evalue": "No module named 'cv2'",
     "output_type": "error",
     "traceback": [
      "\u001b[0;31m---------------------------------------------------------------------------\u001b[0m",
      "\u001b[0;31mModuleNotFoundError\u001b[0m                       Traceback (most recent call last)",
      "\u001b[0;32m<ipython-input-2-ec0b9540491f>\u001b[0m in \u001b[0;36m<module>\u001b[0;34m\u001b[0m\n\u001b[1;32m      3\u001b[0m \u001b[0;32mfrom\u001b[0m \u001b[0mPyQt5\u001b[0m\u001b[0;34m.\u001b[0m\u001b[0mQtGui\u001b[0m \u001b[0;32mimport\u001b[0m \u001b[0mQPixmap\u001b[0m\u001b[0;34m\u001b[0m\u001b[0;34m\u001b[0m\u001b[0m\n\u001b[1;32m      4\u001b[0m \u001b[0;32mimport\u001b[0m \u001b[0msys\u001b[0m\u001b[0;34m\u001b[0m\u001b[0;34m\u001b[0m\u001b[0m\n\u001b[0;32m----> 5\u001b[0;31m \u001b[0;32mimport\u001b[0m \u001b[0mcv2\u001b[0m\u001b[0;34m\u001b[0m\u001b[0;34m\u001b[0m\u001b[0m\n\u001b[0m\u001b[1;32m      6\u001b[0m \u001b[0;32mfrom\u001b[0m \u001b[0mPyQt5\u001b[0m\u001b[0;34m.\u001b[0m\u001b[0mQtCore\u001b[0m \u001b[0;32mimport\u001b[0m \u001b[0mpyqtSignal\u001b[0m\u001b[0;34m,\u001b[0m \u001b[0mpyqtSlot\u001b[0m\u001b[0;34m,\u001b[0m \u001b[0mQt\u001b[0m\u001b[0;34m,\u001b[0m \u001b[0mQThread\u001b[0m\u001b[0;34m\u001b[0m\u001b[0;34m\u001b[0m\u001b[0m\n\u001b[1;32m      7\u001b[0m \u001b[0;32mimport\u001b[0m \u001b[0mnumpy\u001b[0m \u001b[0;32mas\u001b[0m \u001b[0mnp\u001b[0m\u001b[0;34m\u001b[0m\u001b[0;34m\u001b[0m\u001b[0m\n",
      "\u001b[0;31mModuleNotFoundError\u001b[0m: No module named 'cv2'"
     ]
    }
   ],
   "source": [
    "from PyQt5 import QtGui\n",
    "from PyQt5.QtWidgets import QWidget, QApplication, QLabel, QVBoxLayout\n",
    "from PyQt5.QtGui import QPixmap\n",
    "import sys\n",
    "import cv2\n",
    "from PyQt5.QtCore import pyqtSignal, pyqtSlot, Qt, QThread\n",
    "import numpy as np\n",
    "\n",
    "\n",
    "class VideoThread(QThread):\n",
    "    change_pixmap_signal = pyqtSignal(np.ndarray)\n",
    "\n",
    "    def run(self):\n",
    "        # capture from web cam\n",
    "        cap = cv2.VideoCapture(0)\n",
    "        while True:\n",
    "            ret, cv_img = cap.read()\n",
    "            if ret:\n",
    "                self.change_pixmap_signal.emit(cv_img)\n",
    "\n",
    "\n",
    "class App(QWidget):\n",
    "    def __init__(self):\n",
    "        super().__init__()\n",
    "        self.setWindowTitle(\"Qt live label demo\")\n",
    "        self.disply_width = 640\n",
    "        self.display_height = 480\n",
    "        # create the label that holds the image\n",
    "        self.image_label = QLabel(self)\n",
    "        self.image_label.resize(self.disply_width, self.display_height)\n",
    "        # create a text label\n",
    "        self.textLabel = QLabel('Webcam')\n",
    "\n",
    "        # create a vertical box layout and add the two labels\n",
    "        vbox = QVBoxLayout()\n",
    "        vbox.addWidget(self.image_label)\n",
    "        vbox.addWidget(self.textLabel)\n",
    "        # set the vbox layout as the widgets layout\n",
    "        self.setLayout(vbox)\n",
    "\n",
    "        # create the video capture thread\n",
    "        self.thread = VideoThread()\n",
    "        # connect its signal to the update_image slot\n",
    "        self.thread.change_pixmap_signal.connect(self.update_image)\n",
    "        # start the thread\n",
    "        self.thread.start()\n",
    "\n",
    "\n",
    "\n",
    "    @pyqtSlot(np.ndarray)\n",
    "    def update_image(self, cv_img):\n",
    "        \"\"\"Updates the image_label with a new opencv image\"\"\"\n",
    "        qt_img = self.convert_cv_qt(cv_img)\n",
    "        self.image_label.setPixmap(qt_img)\n",
    "    \n",
    "    def convert_cv_qt(self, cv_img):\n",
    "        \"\"\"Convert from an opencv image to QPixmap\"\"\"\n",
    "        rgb_image = cv2.cvtColor(cv_img, cv2.COLOR_BGR2RGB)\n",
    "        h, w, ch = rgb_image.shape\n",
    "        bytes_per_line = ch * w\n",
    "        convert_to_Qt_format = QtGui.QImage(rgb_image.data, w, h, bytes_per_line, QtGui.QImage.Format_RGB888)\n",
    "        p = convert_to_Qt_format.scaled(self.disply_width, self.display_height, Qt.KeepAspectRatio)\n",
    "        return QPixmap.fromImage(p)\n",
    "    \n",
    "if __name__==\"__main__\":\n",
    "    app = QApplication(sys.argv)\n",
    "    a = App()\n",
    "    a.show()\n",
    "    sys.exit(app.exec_())"
   ]
  },
  {
   "cell_type": "code",
   "execution_count": null,
   "metadata": {},
   "outputs": [],
   "source": []
  }
 ],
 "metadata": {
  "kernelspec": {
   "display_name": "Python 3",
   "language": "python",
   "name": "python3"
  },
  "language_info": {
   "codemirror_mode": {
    "name": "ipython",
    "version": 3
   },
   "file_extension": ".py",
   "mimetype": "text/x-python",
   "name": "python",
   "nbconvert_exporter": "python",
   "pygments_lexer": "ipython3",
   "version": "3.7.6"
  }
 },
 "nbformat": 4,
 "nbformat_minor": 4
}
